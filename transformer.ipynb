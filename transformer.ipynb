{
  "nbformat": 4,
  "nbformat_minor": 0,
  "metadata": {
    "colab": {
      "provenance": [],
      "gpuType": "T4",
      "authorship_tag": "ABX9TyMBiUXzsGp1149dQAuEh+wn",
      "include_colab_link": true
    },
    "kernelspec": {
      "name": "python3",
      "display_name": "Python 3"
    },
    "language_info": {
      "name": "python"
    },
    "accelerator": "GPU"
  },
  "cells": [
    {
      "cell_type": "markdown",
      "metadata": {
        "id": "view-in-github",
        "colab_type": "text"
      },
      "source": [
        "<a href=\"https://colab.research.google.com/github/basava-999/Deep_Learning/blob/main/transformer.ipynb\" target=\"_parent\"><img src=\"https://colab.research.google.com/assets/colab-badge.svg\" alt=\"Open In Colab\"/></a>"
      ]
    },
    {
      "cell_type": "code",
      "source": [
        "\n",
        "import torch\n",
        "import torch.nn as nn"
      ],
      "metadata": {
        "id": "ZJTZ0VtAr1Ih"
      },
      "execution_count": null,
      "outputs": []
    },
    {
      "cell_type": "code",
      "source": [
        "\n",
        "class Embedding(nn.Module):\n",
        "  def __init__(self, vocal_size, dimension):\n",
        "    super(Embedding, self).__init__()\n",
        "    self.embedding = nn.Embedding(vocab_size, dimension)\n",
        "\n",
        "  def forward(self, x):\n",
        "    return self.embedding(x)\n"
      ],
      "metadata": {
        "id": "8iXjBp0Ur6T6"
      },
      "execution_count": null,
      "outputs": []
    },
    {
      "cell_type": "code",
      "source": [
        "\n",
        "class Position_Encoding(nn.Module):\n",
        "  def __init__(self, max_vocab, dimension):\n",
        "    super(Position_Encoding, self).__init__()\n",
        "    self.encoding = torch.zeros(max_vocab, dimension)\n",
        "\n",
        "    positions = torch.arange(0, max_vocab, dtype=torch.float).unsqueeze(1)"
      ],
      "metadata": {
        "id": "8C0ST97FuU3H"
      },
      "execution_count": null,
      "outputs": []
    },
    {
      "cell_type": "code",
      "source": [
        "\n",
        "a = nn.Embedding( 10, 12)\n",
        "print(a)"
      ],
      "metadata": {
        "id": "KiI0LMGbwDD7",
        "colab": {
          "base_uri": "https://localhost:8080/"
        },
        "outputId": "7b4e1dfe-1795-4853-a90c-93ff30aff22e"
      },
      "execution_count": null,
      "outputs": [
        {
          "output_type": "stream",
          "name": "stdout",
          "text": [
            "Embedding(10, 12)\n"
          ]
        }
      ]
    },
    {
      "cell_type": "code",
      "source": [
        "\n",
        "a(torch.tensor([1,2,3,4,5,6,7,8,9]) )"
      ],
      "metadata": {
        "colab": {
          "base_uri": "https://localhost:8080/"
        },
        "id": "34Nj__PZzmHz",
        "outputId": "dce25e8d-5ab5-44cd-c845-fed745000a13"
      },
      "execution_count": null,
      "outputs": [
        {
          "output_type": "execute_result",
          "data": {
            "text/plain": [
              "tensor([[ 1.1234e+00, -4.8180e-01, -1.1001e+00, -1.3910e+00, -8.4936e-01,\n",
              "         -1.2779e-01, -2.9401e-01, -4.8879e-01,  1.1910e+00,  5.4167e-01,\n",
              "         -8.7146e-01, -7.0586e-01],\n",
              "        [-1.0396e-01, -2.2154e+00,  2.3963e+00, -4.9151e-02,  1.2441e+00,\n",
              "         -9.9804e-01, -5.3246e-01, -5.5454e-01, -1.7078e+00,  2.1852e-01,\n",
              "         -6.9359e-01,  7.6911e-01],\n",
              "        [ 9.2966e-01,  6.7214e-01,  1.2400e+00, -1.6379e+00,  1.4832e+00,\n",
              "         -1.7054e+00,  8.7842e-01, -2.7948e-01, -1.0849e+00,  7.1364e-01,\n",
              "         -8.0986e-01,  1.9402e+00],\n",
              "        [-1.0817e+00,  9.4090e-01, -1.5561e+00,  7.8338e-02,  1.0359e-01,\n",
              "          6.5394e-01, -1.2545e+00,  1.2646e+00,  3.8523e-01, -1.6931e-01,\n",
              "          5.7336e-01, -8.2299e-01],\n",
              "        [ 8.4804e-02, -9.8316e-02,  1.0078e+00, -4.5605e-01, -3.5230e-01,\n",
              "          2.1948e-03,  5.5746e-01,  3.9528e-01, -1.3068e-01,  2.0248e-03,\n",
              "          2.8012e-01,  2.0948e-01],\n",
              "        [-3.2905e-01, -1.2119e+00,  5.7524e-01, -5.2709e-01, -7.3112e-01,\n",
              "          2.5271e-01,  2.6631e-01, -8.2734e-01, -3.4176e-01,  2.9694e-01,\n",
              "         -3.5955e-01,  1.0703e-01],\n",
              "        [ 1.3085e+00,  9.4867e-01, -2.5934e+00,  4.6435e-01, -3.0231e-01,\n",
              "         -7.1783e-02,  7.9756e-01, -4.4537e-01, -1.6680e+00, -4.1956e-01,\n",
              "         -7.9584e-01, -1.1929e+00],\n",
              "        [-2.4262e+00, -9.1766e-01, -3.4068e-01, -4.5185e-01, -1.1367e+00,\n",
              "         -7.7384e-01,  9.5516e-01, -1.9221e+00,  1.0216e+00, -4.6513e-01,\n",
              "         -1.1183e-01,  1.8031e-01],\n",
              "        [ 1.5570e+00,  3.8861e-01,  1.1886e+00,  9.3193e-01,  5.1565e-02,\n",
              "          9.1520e-01, -1.2482e+00,  1.3522e+00,  1.4880e+00,  4.2877e-01,\n",
              "         -1.0318e+00,  9.5882e-01]], grad_fn=<EmbeddingBackward0>)"
            ]
          },
          "metadata": {},
          "execution_count": 3
        }
      ]
    },
    {
      "cell_type": "code",
      "source": [
        "a.weight"
      ],
      "metadata": {
        "colab": {
          "base_uri": "https://localhost:8080/"
        },
        "id": "2W3X-NWzzqBT",
        "outputId": "6cf2af3e-4362-40a4-8162-dc0d64b96c89"
      },
      "execution_count": null,
      "outputs": [
        {
          "output_type": "execute_result",
          "data": {
            "text/plain": [
              "Parameter containing:\n",
              "tensor([[-1.8053e-01, -1.6227e+00, -8.6006e-01, -1.0139e-01,  1.8460e-01,\n",
              "          2.4731e-01,  1.2147e+00, -9.8321e-01, -7.2196e-01, -8.3946e-01,\n",
              "         -1.3189e+00, -1.0151e-01],\n",
              "        [ 1.1234e+00, -4.8180e-01, -1.1001e+00, -1.3910e+00, -8.4936e-01,\n",
              "         -1.2779e-01, -2.9401e-01, -4.8879e-01,  1.1910e+00,  5.4167e-01,\n",
              "         -8.7146e-01, -7.0586e-01],\n",
              "        [-1.0396e-01, -2.2154e+00,  2.3963e+00, -4.9151e-02,  1.2441e+00,\n",
              "         -9.9804e-01, -5.3246e-01, -5.5454e-01, -1.7078e+00,  2.1852e-01,\n",
              "         -6.9359e-01,  7.6911e-01],\n",
              "        [ 9.2966e-01,  6.7214e-01,  1.2400e+00, -1.6379e+00,  1.4832e+00,\n",
              "         -1.7054e+00,  8.7842e-01, -2.7948e-01, -1.0849e+00,  7.1364e-01,\n",
              "         -8.0986e-01,  1.9402e+00],\n",
              "        [-1.0817e+00,  9.4090e-01, -1.5561e+00,  7.8338e-02,  1.0359e-01,\n",
              "          6.5394e-01, -1.2545e+00,  1.2646e+00,  3.8523e-01, -1.6931e-01,\n",
              "          5.7336e-01, -8.2299e-01],\n",
              "        [ 8.4804e-02, -9.8316e-02,  1.0078e+00, -4.5605e-01, -3.5230e-01,\n",
              "          2.1948e-03,  5.5746e-01,  3.9528e-01, -1.3068e-01,  2.0248e-03,\n",
              "          2.8012e-01,  2.0948e-01],\n",
              "        [-3.2905e-01, -1.2119e+00,  5.7524e-01, -5.2709e-01, -7.3112e-01,\n",
              "          2.5271e-01,  2.6631e-01, -8.2734e-01, -3.4176e-01,  2.9694e-01,\n",
              "         -3.5955e-01,  1.0703e-01],\n",
              "        [ 1.3085e+00,  9.4867e-01, -2.5934e+00,  4.6435e-01, -3.0231e-01,\n",
              "         -7.1783e-02,  7.9756e-01, -4.4537e-01, -1.6680e+00, -4.1956e-01,\n",
              "         -7.9584e-01, -1.1929e+00],\n",
              "        [-2.4262e+00, -9.1766e-01, -3.4068e-01, -4.5185e-01, -1.1367e+00,\n",
              "         -7.7384e-01,  9.5516e-01, -1.9221e+00,  1.0216e+00, -4.6513e-01,\n",
              "         -1.1183e-01,  1.8031e-01],\n",
              "        [ 1.5570e+00,  3.8861e-01,  1.1886e+00,  9.3193e-01,  5.1565e-02,\n",
              "          9.1520e-01, -1.2482e+00,  1.3522e+00,  1.4880e+00,  4.2877e-01,\n",
              "         -1.0318e+00,  9.5882e-01]], requires_grad=True)"
            ]
          },
          "metadata": {},
          "execution_count": 5
        }
      ]
    },
    {
      "cell_type": "code",
      "source": [
        "\n"
      ],
      "metadata": {
        "id": "jnpssrqc1eNU"
      },
      "execution_count": null,
      "outputs": []
    }
  ]
}