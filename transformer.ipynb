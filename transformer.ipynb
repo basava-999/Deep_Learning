{
  "nbformat": 4,
  "nbformat_minor": 0,
  "metadata": {
    "colab": {
      "provenance": [],
      "gpuType": "T4",
      "authorship_tag": "ABX9TyMNnEmmoMHp6jytu5CmZ0gS",
      "include_colab_link": true
    },
    "kernelspec": {
      "name": "python3",
      "display_name": "Python 3"
    },
    "language_info": {
      "name": "python"
    },
    "accelerator": "GPU"
  },
  "cells": [
    {
      "cell_type": "markdown",
      "metadata": {
        "id": "view-in-github",
        "colab_type": "text"
      },
      "source": [
        "<a href=\"https://colab.research.google.com/github/basava-999/Deep_Learning/blob/main/transformer.ipynb\" target=\"_parent\"><img src=\"https://colab.research.google.com/assets/colab-badge.svg\" alt=\"Open In Colab\"/></a>"
      ]
    },
    {
      "cell_type": "code",
      "source": [
        "\n",
        "import torch\n",
        "import torch.nn as nn"
      ],
      "metadata": {
        "id": "ZJTZ0VtAr1Ih"
      },
      "execution_count": null,
      "outputs": []
    },
    {
      "cell_type": "code",
      "source": [
        "\n",
        "class Embedding(nn.Module):\n",
        "  def __init__(self, vocal_size, dimension):\n",
        "    super(Embedding, self).__init__()\n",
        "    self.embedding = nn.Embedding(vocab_size, dimension)\n",
        "\n",
        "  def forward(self, x):\n",
        "    return self.embedding(x)\n"
      ],
      "metadata": {
        "id": "8iXjBp0Ur6T6"
      },
      "execution_count": null,
      "outputs": []
    }
  ]
}